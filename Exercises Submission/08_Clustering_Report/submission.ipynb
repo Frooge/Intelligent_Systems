{
 "cells": [
  {
   "cell_type": "markdown",
   "metadata": {},
   "source": [
    "# Clustering Activity"
   ]
  },
  {
   "cell_type": "code",
   "execution_count": 6,
   "metadata": {},
   "outputs": [
    {
     "name": "stdout",
     "output_type": "stream",
     "text": [
      "Collecting scikit-fuzzy\n",
      "  Downloading scikit-fuzzy-0.4.2.tar.gz (993 kB)\n",
      "     ---------------------------------------- 0.0/994.0 kB ? eta -:--:--\n",
      "     - ------------------------------------- 30.7/994.0 kB 1.3 MB/s eta 0:00:01\n",
      "     --- ----------------------------------- 92.2/994.0 kB 1.1 MB/s eta 0:00:01\n",
      "     ---- ------------------------------- 122.9/994.0 kB 901.1 kB/s eta 0:00:01\n",
      "     -------- ----------------------------- 225.3/994.0 kB 1.3 MB/s eta 0:00:01\n",
      "     ---------- --------------------------- 266.2/994.0 kB 1.2 MB/s eta 0:00:01\n",
      "     ------------- ------------------------ 348.2/994.0 kB 1.3 MB/s eta 0:00:01\n",
      "     -------------- ----------------------- 368.6/994.0 kB 1.3 MB/s eta 0:00:01\n",
      "     ----------------- -------------------- 450.6/994.0 kB 1.2 MB/s eta 0:00:01\n",
      "     ------------------- ------------------ 522.2/994.0 kB 1.3 MB/s eta 0:00:01\n",
      "     --------------------- ---------------- 573.4/994.0 kB 1.3 MB/s eta 0:00:01\n",
      "     ------------------------ ------------- 634.9/994.0 kB 1.3 MB/s eta 0:00:01\n",
      "     ------------------------------ ------- 798.7/994.0 kB 1.5 MB/s eta 0:00:01\n",
      "     ---------------------------------- --- 901.1/994.0 kB 1.6 MB/s eta 0:00:01\n",
      "     -------------------------------------- 994.0/994.0 kB 1.7 MB/s eta 0:00:00\n",
      "  Preparing metadata (setup.py): started\n",
      "  Preparing metadata (setup.py): finished with status 'done'\n",
      "Requirement already satisfied: numpy>=1.6.0 in c:\\users\\jade rosales\\appdata\\local\\programs\\python\\python311\\lib\\site-packages (from scikit-fuzzy) (1.24.2)\n",
      "Requirement already satisfied: scipy>=0.9.0 in c:\\users\\jade rosales\\appdata\\local\\programs\\python\\python311\\lib\\site-packages (from scikit-fuzzy) (1.10.1)\n",
      "Requirement already satisfied: networkx>=1.9.0 in c:\\users\\jade rosales\\appdata\\local\\programs\\python\\python311\\lib\\site-packages (from scikit-fuzzy) (3.1)\n",
      "Building wheels for collected packages: scikit-fuzzy\n",
      "  Building wheel for scikit-fuzzy (setup.py): started\n",
      "  Building wheel for scikit-fuzzy (setup.py): finished with status 'done'\n",
      "  Created wheel for scikit-fuzzy: filename=scikit_fuzzy-0.4.2-py3-none-any.whl size=894087 sha256=95b3e95a78b72cd8f2a7606db1708f687b2f0dc5aece063f40f6f545d5becc33\n",
      "  Stored in directory: c:\\users\\jade rosales\\appdata\\local\\pip\\cache\\wheels\\b1\\67\\d1\\6c29aeb1cd2d36447ad5b0de027580b8894aff702a9b50041e\n",
      "Successfully built scikit-fuzzy\n",
      "Installing collected packages: scikit-fuzzy\n",
      "Successfully installed scikit-fuzzy-0.4.2\n",
      "Note: you may need to restart the kernel to use updated packages.\n"
     ]
    }
   ],
   "source": [
    "%pip install scikit-fuzzy"
   ]
  },
  {
   "cell_type": "code",
   "execution_count": 7,
   "metadata": {},
   "outputs": [],
   "source": [
    "# Import necessary libraries\n",
    "from sklearn.datasets import make_blobs\n",
    "from sklearn.cluster import KMeans, AgglomerativeClustering, SpectralClustering\n",
    "from sklearn.metrics import adjusted_rand_score\n",
    "import skfuzzy.cluster as fuzz\n",
    "import numpy as np\n",
    "from sklearn.metrics import adjusted_rand_score, silhouette_score\n",
    "\n",
    "# Generate a hypothetical dataset\n",
    "X, y_true = make_blobs(n_samples=300, centers=4, random_state=42, cluster_std=1.0)"
   ]
  },
  {
   "cell_type": "markdown",
   "metadata": {},
   "source": [
    "Exercise: Evaluate four clustering algorithms (K-Means, Fuzzy C-Means, Spectral, and Agglomerative)\n",
    "1. Apply each clustering algorithm to the dataset where:\n",
    "- cluster_count = 4\n",
    "- random_state = 42 (where applicable)\n",
    "- do not specify affinity, metric, algo, init, linkage (if applicable)\n",
    "2. Use the **Adjusted Rand index** and **Silhouette Score** to evaluate the clustering performance.\n",
    "3. Compare the performance of the algorithms based on the aforementioned metrics and decide which algorithm is best suited for the data given."
   ]
  },
  {
   "cell_type": "code",
   "execution_count": 8,
   "metadata": {},
   "outputs": [],
   "source": [
    "# K-Means\n",
    "kmeans = KMeans(n_clusters=4, random_state=42, n_init=10)\n",
    "kmeans_labels = kmeans.fit_predict(X)\n",
    "kmeans_ari = adjusted_rand_score(y_true, kmeans_labels)\n",
    "kmeans_sil = silhouette_score(X, kmeans_labels)\n",
    "\n",
    "#Fuzzy C-Means\n",
    "fcm_centers, fcm_labels, _, _, _, _, _ = fuzz.cmeans(X.T, c = 4, m=1.25, error=0.075, maxiter=1000)\n",
    "fuzzy_labels = np.argmax(fcm_labels, axis=0)\n",
    "fuzzy_ari = adjusted_rand_score(y_true, fuzzy_labels)\n",
    "fuzzy_sil = silhouette_score(X, fuzzy_labels)\n",
    "\n",
    "#Spectral\n",
    "spectral_labels = SpectralClustering(n_clusters=4, random_state=42).fit_predict(X)\n",
    "spectral_ari = adjusted_rand_score(y_true, spectral_labels)\n",
    "spectral_sil = silhouette_score(X, spectral_labels)\n",
    "\n",
    "# Agglomerative\n",
    "agglo_labels = AgglomerativeClustering(n_clusters=4).fit_predict(X)\n",
    "agglo_ari = adjusted_rand_score(y_true, agglo_labels)\n",
    "agglo_sil = silhouette_score(X, agglo_labels)"
   ]
  },
  {
   "cell_type": "markdown",
   "metadata": {},
   "source": [
    "# Results"
   ]
  },
  {
   "cell_type": "code",
   "execution_count": 9,
   "metadata": {},
   "outputs": [
    {
     "name": "stdout",
     "output_type": "stream",
     "text": [
      "Adjusted Rand Index\n",
      "K-Means: 0.9910811504997546\n",
      "Fuzzy C-Means: 0.6267323784563009\n",
      "Spectral: 0.9910811504997546\n",
      "Agglomerative: 0.9910811504997546\n",
      "\n",
      "\n",
      "Silhouette Score\n",
      "K-Means: 0.7915830011443039\n",
      "Fuzzy C-Means: 0.6212282155627628\n",
      "Spectral: 0.7915830011443039\n",
      "Agglomerative: 0.7915830011443039\n"
     ]
    }
   ],
   "source": [
    "print(\"Adjusted Rand Index\")\n",
    "print(f\"K-Means: {kmeans_ari}\")\n",
    "print(f\"Fuzzy C-Means: {fuzzy_ari}\")\n",
    "print(f\"Spectral: {spectral_ari}\")\n",
    "print(f\"Agglomerative: {agglo_ari}\")\n",
    "\n",
    "print(\"\\n\\nSilhouette Score\")\n",
    "print(f\"K-Means: {kmeans_sil}\")\n",
    "print(f\"Fuzzy C-Means: {fuzzy_sil}\")\n",
    "print(f\"Spectral: {spectral_sil}\")\n",
    "print(f\"Agglomerative: {agglo_sil}\")"
   ]
  }
 ],
 "metadata": {
  "kernelspec": {
   "display_name": "Python 3",
   "language": "python",
   "name": "python3"
  },
  "language_info": {
   "codemirror_mode": {
    "name": "ipython",
    "version": 3
   },
   "file_extension": ".py",
   "mimetype": "text/x-python",
   "name": "python",
   "nbconvert_exporter": "python",
   "pygments_lexer": "ipython3",
   "version": "3.11.1"
  }
 },
 "nbformat": 4,
 "nbformat_minor": 2
}
